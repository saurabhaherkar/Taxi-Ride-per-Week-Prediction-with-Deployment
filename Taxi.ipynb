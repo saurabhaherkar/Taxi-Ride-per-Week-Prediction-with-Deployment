{
 "cells": [
  {
   "cell_type": "code",
   "execution_count": 2,
   "metadata": {},
   "outputs": [],
   "source": [
    "import pandas as pd\n",
    "import seaborn as sns\n",
    "import numpy as np\n",
    "import matplotlib.pyplot as plt"
   ]
  },
  {
   "cell_type": "code",
   "execution_count": 3,
   "metadata": {},
   "outputs": [
    {
     "data": {
      "text/html": [
       "<div>\n",
       "<style scoped>\n",
       "    .dataframe tbody tr th:only-of-type {\n",
       "        vertical-align: middle;\n",
       "    }\n",
       "\n",
       "    .dataframe tbody tr th {\n",
       "        vertical-align: top;\n",
       "    }\n",
       "\n",
       "    .dataframe thead th {\n",
       "        text-align: right;\n",
       "    }\n",
       "</style>\n",
       "<table border=\"1\" class=\"dataframe\">\n",
       "  <thead>\n",
       "    <tr style=\"text-align: right;\">\n",
       "      <th></th>\n",
       "      <th>priceperweek</th>\n",
       "      <th>Population</th>\n",
       "      <th>Monthlyincome</th>\n",
       "      <th>Averageparkingpermonth</th>\n",
       "      <th>Numberofweeklyriders</th>\n",
       "      <th>Unnamed: 5</th>\n",
       "    </tr>\n",
       "  </thead>\n",
       "  <tbody>\n",
       "    <tr>\n",
       "      <th>0</th>\n",
       "      <td>15.0</td>\n",
       "      <td>1800000</td>\n",
       "      <td>5800</td>\n",
       "      <td>50</td>\n",
       "      <td>192000</td>\n",
       "      <td>NaN</td>\n",
       "    </tr>\n",
       "    <tr>\n",
       "      <th>1</th>\n",
       "      <td>15.0</td>\n",
       "      <td>1790000</td>\n",
       "      <td>6200</td>\n",
       "      <td>50</td>\n",
       "      <td>190400</td>\n",
       "      <td>NaN</td>\n",
       "    </tr>\n",
       "    <tr>\n",
       "      <th>2</th>\n",
       "      <td>15.0</td>\n",
       "      <td>1780000</td>\n",
       "      <td>6400</td>\n",
       "      <td>60</td>\n",
       "      <td>191200</td>\n",
       "      <td>NaN</td>\n",
       "    </tr>\n",
       "    <tr>\n",
       "      <th>3</th>\n",
       "      <td>25.0</td>\n",
       "      <td>1778000</td>\n",
       "      <td>6500</td>\n",
       "      <td>60</td>\n",
       "      <td>177600</td>\n",
       "      <td>NaN</td>\n",
       "    </tr>\n",
       "    <tr>\n",
       "      <th>4</th>\n",
       "      <td>25.0</td>\n",
       "      <td>1750000</td>\n",
       "      <td>6550</td>\n",
       "      <td>60</td>\n",
       "      <td>176800</td>\n",
       "      <td>NaN</td>\n",
       "    </tr>\n",
       "    <tr>\n",
       "      <th>5</th>\n",
       "      <td>25.0</td>\n",
       "      <td>1740000</td>\n",
       "      <td>6580</td>\n",
       "      <td>70</td>\n",
       "      <td>178400</td>\n",
       "      <td>NaN</td>\n",
       "    </tr>\n",
       "    <tr>\n",
       "      <th>6</th>\n",
       "      <td>25.0</td>\n",
       "      <td>1725000</td>\n",
       "      <td>8200</td>\n",
       "      <td>75</td>\n",
       "      <td>180800</td>\n",
       "      <td>NaN</td>\n",
       "    </tr>\n",
       "    <tr>\n",
       "      <th>7</th>\n",
       "      <td>30.0</td>\n",
       "      <td>1725000</td>\n",
       "      <td>8600</td>\n",
       "      <td>75</td>\n",
       "      <td>175200</td>\n",
       "      <td>NaN</td>\n",
       "    </tr>\n",
       "    <tr>\n",
       "      <th>8</th>\n",
       "      <td>30.0</td>\n",
       "      <td>1720000</td>\n",
       "      <td>8800</td>\n",
       "      <td>75</td>\n",
       "      <td>174400</td>\n",
       "      <td>NaN</td>\n",
       "    </tr>\n",
       "    <tr>\n",
       "      <th>9</th>\n",
       "      <td>30.0</td>\n",
       "      <td>1705000</td>\n",
       "      <td>9200</td>\n",
       "      <td>80</td>\n",
       "      <td>173920</td>\n",
       "      <td>NaN</td>\n",
       "    </tr>\n",
       "  </tbody>\n",
       "</table>\n",
       "</div>"
      ],
      "text/plain": [
       "   priceperweek  Population  Monthlyincome  Averageparkingpermonth  \\\n",
       "0          15.0     1800000           5800                      50   \n",
       "1          15.0     1790000           6200                      50   \n",
       "2          15.0     1780000           6400                      60   \n",
       "3          25.0     1778000           6500                      60   \n",
       "4          25.0     1750000           6550                      60   \n",
       "5          25.0     1740000           6580                      70   \n",
       "6          25.0     1725000           8200                      75   \n",
       "7          30.0     1725000           8600                      75   \n",
       "8          30.0     1720000           8800                      75   \n",
       "9          30.0     1705000           9200                      80   \n",
       "\n",
       "   Numberofweeklyriders  Unnamed: 5  \n",
       "0                192000         NaN  \n",
       "1                190400         NaN  \n",
       "2                191200         NaN  \n",
       "3                177600         NaN  \n",
       "4                176800         NaN  \n",
       "5                178400         NaN  \n",
       "6                180800         NaN  \n",
       "7                175200         NaN  \n",
       "8                174400         NaN  \n",
       "9                173920         NaN  "
      ]
     },
     "execution_count": 3,
     "metadata": {},
     "output_type": "execute_result"
    }
   ],
   "source": [
    "df = pd.read_csv('Taxi.csv')\n",
    "df.head(10)"
   ]
  },
  {
   "cell_type": "code",
   "execution_count": 4,
   "metadata": {},
   "outputs": [
    {
     "data": {
      "text/html": [
       "<div>\n",
       "<style scoped>\n",
       "    .dataframe tbody tr th:only-of-type {\n",
       "        vertical-align: middle;\n",
       "    }\n",
       "\n",
       "    .dataframe tbody tr th {\n",
       "        vertical-align: top;\n",
       "    }\n",
       "\n",
       "    .dataframe thead th {\n",
       "        text-align: right;\n",
       "    }\n",
       "</style>\n",
       "<table border=\"1\" class=\"dataframe\">\n",
       "  <thead>\n",
       "    <tr style=\"text-align: right;\">\n",
       "      <th></th>\n",
       "      <th>priceperweek</th>\n",
       "      <th>Population</th>\n",
       "      <th>Monthlyincome</th>\n",
       "      <th>Averageparkingpermonth</th>\n",
       "      <th>Numberofweeklyriders</th>\n",
       "    </tr>\n",
       "  </thead>\n",
       "  <tbody>\n",
       "    <tr>\n",
       "      <th>0</th>\n",
       "      <td>15.0</td>\n",
       "      <td>1800000</td>\n",
       "      <td>5800</td>\n",
       "      <td>50</td>\n",
       "      <td>192000</td>\n",
       "    </tr>\n",
       "    <tr>\n",
       "      <th>1</th>\n",
       "      <td>15.0</td>\n",
       "      <td>1790000</td>\n",
       "      <td>6200</td>\n",
       "      <td>50</td>\n",
       "      <td>190400</td>\n",
       "    </tr>\n",
       "    <tr>\n",
       "      <th>2</th>\n",
       "      <td>15.0</td>\n",
       "      <td>1780000</td>\n",
       "      <td>6400</td>\n",
       "      <td>60</td>\n",
       "      <td>191200</td>\n",
       "    </tr>\n",
       "    <tr>\n",
       "      <th>3</th>\n",
       "      <td>25.0</td>\n",
       "      <td>1778000</td>\n",
       "      <td>6500</td>\n",
       "      <td>60</td>\n",
       "      <td>177600</td>\n",
       "    </tr>\n",
       "    <tr>\n",
       "      <th>4</th>\n",
       "      <td>25.0</td>\n",
       "      <td>1750000</td>\n",
       "      <td>6550</td>\n",
       "      <td>60</td>\n",
       "      <td>176800</td>\n",
       "    </tr>\n",
       "    <tr>\n",
       "      <th>5</th>\n",
       "      <td>25.0</td>\n",
       "      <td>1740000</td>\n",
       "      <td>6580</td>\n",
       "      <td>70</td>\n",
       "      <td>178400</td>\n",
       "    </tr>\n",
       "    <tr>\n",
       "      <th>6</th>\n",
       "      <td>25.0</td>\n",
       "      <td>1725000</td>\n",
       "      <td>8200</td>\n",
       "      <td>75</td>\n",
       "      <td>180800</td>\n",
       "    </tr>\n",
       "    <tr>\n",
       "      <th>7</th>\n",
       "      <td>30.0</td>\n",
       "      <td>1725000</td>\n",
       "      <td>8600</td>\n",
       "      <td>75</td>\n",
       "      <td>175200</td>\n",
       "    </tr>\n",
       "    <tr>\n",
       "      <th>8</th>\n",
       "      <td>30.0</td>\n",
       "      <td>1720000</td>\n",
       "      <td>8800</td>\n",
       "      <td>75</td>\n",
       "      <td>174400</td>\n",
       "    </tr>\n",
       "    <tr>\n",
       "      <th>9</th>\n",
       "      <td>30.0</td>\n",
       "      <td>1705000</td>\n",
       "      <td>9200</td>\n",
       "      <td>80</td>\n",
       "      <td>173920</td>\n",
       "    </tr>\n",
       "  </tbody>\n",
       "</table>\n",
       "</div>"
      ],
      "text/plain": [
       "   priceperweek  Population  Monthlyincome  Averageparkingpermonth  \\\n",
       "0          15.0     1800000           5800                      50   \n",
       "1          15.0     1790000           6200                      50   \n",
       "2          15.0     1780000           6400                      60   \n",
       "3          25.0     1778000           6500                      60   \n",
       "4          25.0     1750000           6550                      60   \n",
       "5          25.0     1740000           6580                      70   \n",
       "6          25.0     1725000           8200                      75   \n",
       "7          30.0     1725000           8600                      75   \n",
       "8          30.0     1720000           8800                      75   \n",
       "9          30.0     1705000           9200                      80   \n",
       "\n",
       "   Numberofweeklyriders  \n",
       "0                192000  \n",
       "1                190400  \n",
       "2                191200  \n",
       "3                177600  \n",
       "4                176800  \n",
       "5                178400  \n",
       "6                180800  \n",
       "7                175200  \n",
       "8                174400  \n",
       "9                173920  "
      ]
     },
     "execution_count": 4,
     "metadata": {},
     "output_type": "execute_result"
    }
   ],
   "source": [
    "df = df.drop('Unnamed: 5', axis=1)\n",
    "df.head(10)"
   ]
  },
  {
   "cell_type": "code",
   "execution_count": 5,
   "metadata": {},
   "outputs": [
    {
     "data": {
      "text/plain": [
       "priceperweek              15\n",
       "Population                 0\n",
       "Monthlyincome              0\n",
       "Averageparkingpermonth     0\n",
       "Numberofweeklyriders       0\n",
       "dtype: int64"
      ]
     },
     "execution_count": 5,
     "metadata": {},
     "output_type": "execute_result"
    }
   ],
   "source": [
    "df.isnull().sum()"
   ]
  },
  {
   "cell_type": "code",
   "execution_count": 8,
   "metadata": {},
   "outputs": [
    {
     "data": {
      "text/plain": [
       "priceperweek              0\n",
       "Population                0\n",
       "Monthlyincome             0\n",
       "Averageparkingpermonth    0\n",
       "Numberofweeklyriders      0\n",
       "dtype: int64"
      ]
     },
     "execution_count": 8,
     "metadata": {},
     "output_type": "execute_result"
    }
   ],
   "source": [
    "df['priceperweek'] = df['priceperweek'].fillna(df['priceperweek'].mean())\n",
    "df.isnull().sum()"
   ]
  },
  {
   "cell_type": "code",
   "execution_count": 9,
   "metadata": {},
   "outputs": [
    {
     "name": "stdout",
     "output_type": "stream",
     "text": [
      "   priceperweek  Population  Monthlyincome  Averageparkingpermonth\n",
      "0          15.0     1800000           5800                      50\n",
      "1          15.0     1790000           6200                      50\n",
      "2          15.0     1780000           6400                      60\n",
      "3          25.0     1778000           6500                      60\n",
      "4          25.0     1750000           6550                      60\n",
      "0    192000\n",
      "1    190400\n",
      "2    191200\n",
      "3    177600\n",
      "4    176800\n",
      "Name: Numberofweeklyriders, dtype: int64\n"
     ]
    }
   ],
   "source": [
    "x = df.drop('Numberofweeklyriders', axis=1)\n",
    "y = df['Numberofweeklyriders']\n",
    "print(x.head())\n",
    "print(y.head())"
   ]
  },
  {
   "cell_type": "code",
   "execution_count": 10,
   "metadata": {},
   "outputs": [],
   "source": [
    "from sklearn.model_selection import train_test_split\n",
    "x_train, x_test, y_train, y_test = train_test_split(x, y, test_size=0.2, random_state=51)"
   ]
  },
  {
   "cell_type": "code",
   "execution_count": 11,
   "metadata": {},
   "outputs": [
    {
     "data": {
      "text/plain": [
       "(21, 4)"
      ]
     },
     "execution_count": 11,
     "metadata": {},
     "output_type": "execute_result"
    }
   ],
   "source": [
    "x_train.shape"
   ]
  },
  {
   "cell_type": "code",
   "execution_count": 12,
   "metadata": {},
   "outputs": [
    {
     "data": {
      "text/plain": [
       "(6, 4)"
      ]
     },
     "execution_count": 12,
     "metadata": {},
     "output_type": "execute_result"
    }
   ],
   "source": [
    "x_test.shape"
   ]
  },
  {
   "cell_type": "code",
   "execution_count": 13,
   "metadata": {},
   "outputs": [
    {
     "data": {
      "text/plain": [
       "99.98675959635797"
      ]
     },
     "execution_count": 13,
     "metadata": {},
     "output_type": "execute_result"
    }
   ],
   "source": [
    "from sklearn.linear_model import LinearRegression\n",
    "from sklearn.metrics import r2_score\n",
    "lr = LinearRegression()\n",
    "lr.fit(x_train, y_train)\n",
    "pred_lr = lr.predict(x_test)\n",
    "r2_score(y_test, pred_lr)*100"
   ]
  },
  {
   "cell_type": "code",
   "execution_count": 14,
   "metadata": {},
   "outputs": [
    {
     "data": {
      "text/plain": [
       "99.98675959635797"
      ]
     },
     "execution_count": 14,
     "metadata": {},
     "output_type": "execute_result"
    }
   ],
   "source": [
    "from sklearn.linear_model import LogisticRegression\n",
    "lr_r = LinearRegression()\n",
    "lr_r.fit(x_train, y_train)\n",
    "pred_lr_r = lr_r.predict(x_test)\n",
    "r2_score(y_test, pred_lr)*100"
   ]
  },
  {
   "cell_type": "code",
   "execution_count": 15,
   "metadata": {},
   "outputs": [
    {
     "data": {
      "text/plain": [
       "['Taxi.pkl']"
      ]
     },
     "execution_count": 15,
     "metadata": {},
     "output_type": "execute_result"
    }
   ],
   "source": [
    "import joblib\n",
    "joblib.dump(lr, 'Taxi.pkl')"
   ]
  },
  {
   "cell_type": "code",
   "execution_count": 16,
   "metadata": {},
   "outputs": [],
   "source": [
    "model = joblib.load('Taxi.pkl')"
   ]
  },
  {
   "cell_type": "code",
   "execution_count": null,
   "metadata": {},
   "outputs": [],
   "source": []
  }
 ],
 "metadata": {
  "kernelspec": {
   "display_name": "Python 3",
   "language": "python",
   "name": "python3"
  },
  "language_info": {
   "codemirror_mode": {
    "name": "ipython",
    "version": 3
   },
   "file_extension": ".py",
   "mimetype": "text/x-python",
   "name": "python",
   "nbconvert_exporter": "python",
   "pygments_lexer": "ipython3",
   "version": "3.7.9"
  }
 },
 "nbformat": 4,
 "nbformat_minor": 4
}
